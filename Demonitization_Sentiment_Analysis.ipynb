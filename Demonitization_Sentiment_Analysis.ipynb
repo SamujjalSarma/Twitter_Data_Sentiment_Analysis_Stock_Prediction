{
 "cells": [
  {
   "cell_type": "markdown",
   "metadata": {},
   "source": [
    "## Sentiment Analysis and deep dive analysis of Demonetization "
   ]
  },
  {
   "cell_type": "code",
   "execution_count": null,
   "metadata": {},
   "outputs": [],
   "source": [
    "import os\n",
    "import requests\n",
    "import base64\n",
    "import pandas as pd\n",
    "import os\n",
    "import time\n",
    "import re\n",
    "import datetime\n",
    "from textblob import TextBlob\n",
    "os.chdir('D:\\ISB CBA\\Term 1\\Practicum 1\\Twitter')\n",
    "os.getcwd()"
   ]
  },
  {
   "cell_type": "markdown",
   "metadata": {},
   "source": [
    "\n",
    "   ###  Cleaning text:\n",
    "            1. Removes http urls from the text\n",
    "            2. Removes all the special characters\n",
    "            3. Removes numbers  from the start\n",
    "            4. Substituting multiple spaces with single space\n",
    "            5. Converting to Lowercase\n",
    "            6. Removes alpha neumeric characters\n",
    "            7. Removes user Ids "
   ]
  },
  {
   "cell_type": "code",
   "execution_count": 15,
   "metadata": {},
   "outputs": [],
   "source": [
    "def cleanText(text):\n",
    "   \n",
    "    #removes alpha newumeric\n",
    "    document = re.sub('[^ a-zA-Z]','',str(text))\n",
    "    #removes any @username from the tweet\n",
    "    document = re.sub(r'@[\\w]*','',str(text))\n",
    "    #Removes http urls from hte text\n",
    "    document=re.sub(r'http\\S+', '', document)\n",
    "    # Remove all the special characters\n",
    "    document = re.sub(r'\\W', ' ', str(text))\n",
    "    # Remove numbers characters from the start\n",
    "    document = re.sub(r'[0-9]', ' ', document)\n",
    "    # Substituting multiple spaces with single space\n",
    "    document = re.sub(r'\\s+', ' ', document, flags=re.I)\n",
    "    # Converting to Lowercase\n",
    "    document = document.lower()\n",
    "    return document\n"
   ]
  },
  {
   "cell_type": "code",
   "execution_count": 17,
   "metadata": {},
   "outputs": [],
   "source": [
    "\n",
    "def TweetSentiment(text):\n",
    "    \n",
    "            text=TextBlob(text)\n",
    "            if (text.polarity > 0):\n",
    "                return(\"positive\")\n",
    "            elif (text.polarity < 0):\n",
    "                return(\"negative\")\n",
    "            elif (text.polarity == 0):\n",
    "                return(\"neutral\")"
   ]
  },
  {
   "cell_type": "code",
   "execution_count": 25,
   "metadata": {},
   "outputs": [],
   "source": [
    "demonitization_data=pd.read_csv('D:\\ISB CBA\\Term 1\\Practicum 1\\Twitter\\demonetization-tweets.csv', usecols=['screenName','text','retweetCount'], encoding='ISO-8859-1')\n",
    "\n",
    "demonitization_sentiment=pd.DataFrame(columns=['screenName','clean_tweets','Sentiment','retweetCount'])\n",
    "tweet_row=[]\n",
    "for (screenName,text, retweetCount) in zip(demonitization_data['screenName'],demonitization_data['text'],demonitization_data['retweetCount']):\n",
    "    \n",
    "    screenName=screenName\n",
    "    retweetCount=int(retweetCount)\n",
    "    text=cleanText(text)\n",
    "    clean_tweets=text\n",
    "    Sentiment=TweetSentiment(text)\n",
    "    \n",
    "    \n",
    "    tweet_row.append([screenName,clean_tweets,Sentiment,retweetCount])\n",
    "    demonitization_sentiment=pd.DataFrame(tweet_row)\n",
    "\n",
    "demonitization_sentiment.to_csv('demonitization_sentiment.csv', mode='a', encoding='utf-8',header=False)\n"
   ]
  },
  {
   "cell_type": "code",
   "execution_count": null,
   "metadata": {},
   "outputs": [],
   "source": []
  },
  {
   "cell_type": "code",
   "execution_count": null,
   "metadata": {},
   "outputs": [],
   "source": []
  }
 ],
 "metadata": {
  "kernelspec": {
   "display_name": "Python 3",
   "language": "python",
   "name": "python3"
  },
  "language_info": {
   "codemirror_mode": {
    "name": "ipython",
    "version": 3
   },
   "file_extension": ".py",
   "mimetype": "text/x-python",
   "name": "python",
   "nbconvert_exporter": "python",
   "pygments_lexer": "ipython3",
   "version": "3.6.5"
  }
 },
 "nbformat": 4,
 "nbformat_minor": 2
}
